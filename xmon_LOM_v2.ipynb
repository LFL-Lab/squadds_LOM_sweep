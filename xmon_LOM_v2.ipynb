{
 "cells": [
  {
   "cell_type": "code",
   "execution_count": 1,
   "metadata": {},
   "outputs": [],
   "source": [
    "%load_ext autoreload\n",
    "%autoreload 2\n",
    "\n",
    "%config IPython.sys.argv=['-Xfrozen_modules=off']\n",
    "\n",
    "from qiskit_metal import draw, Dict, designs, MetalGUI\n",
    "from qiskit_metal.toolbox_metal import math_and_overrides\n",
    "from qiskit_metal.qlibrary.core import QComponent\n",
    "import qiskit_metal as metal\n",
    "# ?metal.qlibrary.core.QComponent.add_qgeometry\n",
    "\n",
    "design = metal.designs.design_planar.DesignPlanar()\n",
    "gui = metal.MetalGUI(design)\n",
    "design.overwrite_enabled = True\n",
    "\n",
    "# dir(QComponent)\n",
    "cpw_width = '11.7um'\n",
    "\n",
    "design._chips.main.size.size_x = '5mm'\n",
    "design._chips.main.size.size_y = '5mm'\n",
    "from qiskit_metal.qlibrary.terminations.launchpad_wb import LaunchpadWirebond\n",
    "from qiskit_metal.qlibrary.terminations.short_to_ground import ShortToGround\n",
    "from qiskit_metal.qlibrary.tlines.straight_path import RouteStraight\n",
    "from qiskit_metal.qlibrary.tlines.anchored_path import RouteAnchors\n",
    "from qiskit_metal.qlibrary.tlines.mixed_path import RouteMixed\n",
    "from qiskit_metal.qlibrary.qubits.transmon_cross import TransmonCross\n",
    "from qiskit_metal.qlibrary.tlines.meandered import RouteMeander\n",
    "from qiskit_metal.qlibrary.terminations.open_to_ground import OpenToGround\n",
    "from qiskit_metal.qlibrary.couplers.coupled_line_tee import CoupledLineTee\n",
    "from qiskit_metal.qlibrary.couplers.cap_n_interdigital_tee import CapNInterdigitalTee\n",
    "from qiskit_metal.qlibrary.couplers.line_tee import LineTee\n",
    "\n",
    "from collections import OrderedDict\n",
    "\n",
    "import numpy as np\n",
    "\n",
    "from utils import *\n",
    "from objects import *\n",
    "from sweeper_helperfunctions import *"
   ]
  },
  {
   "cell_type": "code",
   "execution_count": 2,
   "metadata": {},
   "outputs": [],
   "source": [
    "comps_available = {\n",
    "    \"Sabrina\":0,\n",
    "    \"Saruman\":1,\n",
    "    \"VM84\":2,\n",
    "    \"VM85\":3,\n",
    "    \"VM90\":4,\n",
    "    \"VM91\":5,\n",
    "}"
   ]
  },
  {
   "cell_type": "code",
   "execution_count": 3,
   "metadata": {},
   "outputs": [],
   "source": [
    "comp_id = \"Sabrina\"  # Replace with actual computer name"
   ]
  },
  {
   "cell_type": "code",
   "execution_count": 4,
   "metadata": {},
   "outputs": [
    {
     "data": {
      "text/plain": [
       "89.1"
      ]
     },
     "execution_count": 4,
     "metadata": {},
     "output_type": "execute_result"
    }
   ],
   "source": [
    "float(\"89.1um\"[:-2])"
   ]
  },
  {
   "cell_type": "code",
   "execution_count": 5,
   "metadata": {},
   "outputs": [
    {
     "data": {
      "text/plain": [
       "{'connection_pads': {'readout': {'connector_location': '90',\n",
       "   'connector_type': '0',\n",
       "   'claw_length': '89.1um',\n",
       "   'ground_spacing': '4.1um',\n",
       "   'claw_gap': '5.1um',\n",
       "   'claw_width': '15um'}},\n",
       " 'cross_width': '30um',\n",
       " 'cross_length': '100um',\n",
       " 'cross_gap': '30um',\n",
       " 'aedt_hfss_inductance': 1.0471e-08}"
      ]
     },
     "execution_count": 5,
     "metadata": {},
     "output_type": "execute_result"
    }
   ],
   "source": [
    "xmon_sweep_options = dict(\n",
    "    connection_pads=dict(\n",
    "        readout = dict(connector_location = '90', \n",
    "                 connector_type = '0', \n",
    "                 claw_length = list(np.array_split([f\"{70+i*10}um\" for i in range(39)], len(comps_available))[comps_available[comp_id]]),\n",
    "                 ground_spacing = '4.1um', \n",
    "                 claw_gap = '5.1um', \n",
    "                 claw_width = '15um',\n",
    "                 ),\n",
    "    ),\n",
    "    cross_width = '30um',\n",
    "    cross_length = [f\"{90+i*10}um\" for i in range(34)],\n",
    "    cross_gap = '30um',\n",
    "    aedt_hfss_inductance = 10.471E-9\n",
    ")\n",
    "\n",
    "# Create a new Transmon Cross object with name 'Q1'\n",
    "# q = TransmonCross(design, 'Q', options=xmon_options)\n",
    "\n",
    "# gui.rebuild()  # line needed to propagate the updates from the qubit instance into the junction design table\n",
    "# gui.autoscale()\n",
    "xmon_sweep_options"
   ]
  },
  {
   "cell_type": "markdown",
   "metadata": {},
   "source": [
    "# LOM sim"
   ]
  },
  {
   "cell_type": "code",
   "execution_count": 6,
   "metadata": {},
   "outputs": [
    {
     "name": "stdout",
     "output_type": "stream",
     "text": [
      "{'connection_pads': {'readout': {'connector_location': '90', 'connector_type': '0', 'claw_length': '89.1um', 'ground_spacing': '4.1um', 'claw_gap': '5.1um', 'claw_width': '15um'}}, 'cross_width': '30um', 'cross_length': '100um', 'cross_gap': '30um', 'aedt_hfss_inductance': 1.0471e-08}\n"
     ]
    }
   ],
   "source": [
    "cross_LOM_sweep(design, xmon_sweep_options)"
   ]
  }
 ],
 "metadata": {
  "kernelspec": {
   "display_name": "qiskit_metal",
   "language": "python",
   "name": "python3"
  },
  "language_info": {
   "codemirror_mode": {
    "name": "ipython",
    "version": 3
   },
   "file_extension": ".py",
   "mimetype": "text/x-python",
   "name": "python",
   "nbconvert_exporter": "python",
   "pygments_lexer": "ipython3",
   "version": "3.11.4"
  },
  "orig_nbformat": 4
 },
 "nbformat": 4,
 "nbformat_minor": 2
}
