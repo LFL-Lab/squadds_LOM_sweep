{
 "cells": [
  {
   "cell_type": "code",
   "execution_count": 1,
   "metadata": {},
   "outputs": [],
   "source": [
    "%load_ext autoreload\n",
    "%autoreload 2\n",
    "\n",
    "%config IPython.sys.argv=['-Xfrozen_modules=off']\n",
    "\n",
    "from qiskit_metal import draw, Dict, designs, MetalGUI\n",
    "from qiskit_metal.toolbox_metal import math_and_overrides\n",
    "from qiskit_metal.qlibrary.core import QComponent\n",
    "import qiskit_metal as metal\n",
    "# ?metal.qlibrary.core.QComponent.add_qgeometry\n",
    "\n",
    "design = metal.designs.design_planar.DesignPlanar()\n",
    "gui = metal.MetalGUI(design)\n",
    "design.overwrite_enabled = True\n",
    "\n",
    "# dir(QComponent)\n",
    "cpw_width = '11.7um'\n",
    "\n",
    "design._chips.main.size.size_x = '5mm'\n",
    "design._chips.main.size.size_y = '5mm'\n",
    "from qiskit_metal.qlibrary.terminations.launchpad_wb import LaunchpadWirebond\n",
    "from qiskit_metal.qlibrary.terminations.short_to_ground import ShortToGround\n",
    "from qiskit_metal.qlibrary.tlines.straight_path import RouteStraight\n",
    "from qiskit_metal.qlibrary.tlines.anchored_path import RouteAnchors\n",
    "from qiskit_metal.qlibrary.tlines.mixed_path import RouteMixed\n",
    "from qiskit_metal.qlibrary.qubits.transmon_cross import TransmonCross\n",
    "from qiskit_metal.qlibrary.tlines.meandered import RouteMeander\n",
    "from qiskit_metal.qlibrary.terminations.open_to_ground import OpenToGround\n",
    "from qiskit_metal.qlibrary.couplers.coupled_line_tee import CoupledLineTee\n",
    "from qiskit_metal.qlibrary.couplers.cap_n_interdigital_tee import CapNInterdigitalTee\n",
    "from qiskit_metal.qlibrary.couplers.line_tee import LineTee\n",
    "\n",
    "from collections import OrderedDict\n",
    "\n",
    "import numpy as np\n",
    "\n",
    "from utils import *\n",
    "from objects import *\n",
    "from sweeper_helperfunctions import *"
   ]
  },
  {
   "cell_type": "code",
   "execution_count": 2,
   "metadata": {},
   "outputs": [],
   "source": [
    "comps_available = {\n",
    "    \"Sabrina\":0,\n",
    "    \"Saruman\":1,\n",
    "    \"VM84\":2,\n",
    "    \"VM85\":3,\n",
    "    \"VM90\":4,\n",
    "    \"VM91\":5,\n",
    "}"
   ]
  },
  {
   "cell_type": "code",
   "execution_count": 3,
   "metadata": {},
   "outputs": [],
   "source": [
    "comp_id = \"Sabrina\"  # Replace with actual computer name"
   ]
  },
  {
   "cell_type": "code",
   "execution_count": 4,
   "metadata": {},
   "outputs": [
    {
     "data": {
      "text/plain": [
       "{'connection_pads': {'readout': {'connector_location': '90',\n",
       "   'connector_type': '0',\n",
       "   'claw_length': ['70um', '80um', '90um', '100um', '110um', '120um', '130um'],\n",
       "   'ground_spacing': '4.1um',\n",
       "   'claw_gap': '5.1um',\n",
       "   'claw_width': '15um'}},\n",
       " 'orientation': '-90',\n",
       " 'cross_width': '30um',\n",
       " 'cross_length': ['90um',\n",
       "  '100um',\n",
       "  '110um',\n",
       "  '120um',\n",
       "  '130um',\n",
       "  '140um',\n",
       "  '150um',\n",
       "  '160um',\n",
       "  '170um',\n",
       "  '180um',\n",
       "  '190um',\n",
       "  '200um',\n",
       "  '210um',\n",
       "  '220um',\n",
       "  '230um',\n",
       "  '240um',\n",
       "  '250um',\n",
       "  '260um',\n",
       "  '270um',\n",
       "  '280um',\n",
       "  '290um',\n",
       "  '300um',\n",
       "  '310um',\n",
       "  '320um',\n",
       "  '330um',\n",
       "  '340um',\n",
       "  '350um',\n",
       "  '360um',\n",
       "  '370um',\n",
       "  '380um',\n",
       "  '390um',\n",
       "  '400um',\n",
       "  '410um',\n",
       "  '420um',\n",
       "  '430um',\n",
       "  '440um',\n",
       "  '450um',\n",
       "  '460um',\n",
       "  '470um',\n",
       "  '480um'],\n",
       " 'cross_gap': '30um',\n",
       " 'aedt_hfss_inductance': 1}"
      ]
     },
     "execution_count": 4,
     "metadata": {},
     "output_type": "execute_result"
    }
   ],
   "source": [
    "xmon_sweep_options = dict(\n",
    "    connection_pads=dict(\n",
    "        readout = dict(connector_location = '90', \n",
    "                 connector_type = '0', \n",
    "                 claw_length = list(np.array_split([f\"{70+i*10}um\" for i in range(39)], len(comps_available))[comps_available[comp_id]]),\n",
    "                 ground_spacing = '4.1um', \n",
    "                 claw_gap = '5.1um', \n",
    "                 claw_width = '15um',\n",
    "                 ),\n",
    "    ),\n",
    "    orientation = \"-90\",\n",
    "    cross_width = '30um',\n",
    "    cross_length = [f\"{90+i*10}um\" for i in range(40)],\n",
    "    cross_gap = '30um',\n",
    "    aedt_hfss_inductance = 10-9\n",
    ")\n",
    "\n",
    "# Create a new Transmon Cross object with name 'Q1'\n",
    "# q = TransmonCross(design, 'Q', options=xmon_options)\n",
    "\n",
    "# gui.rebuild()  # line needed to propagate the updates from the qubit instance into the junction design table\n",
    "# gui.autoscale()\n",
    "xmon_sweep_options"
   ]
  },
  {
   "cell_type": "markdown",
   "metadata": {},
   "source": [
    "# LOM sim"
   ]
  },
  {
   "cell_type": "code",
   "execution_count": 5,
   "metadata": {},
   "outputs": [
    {
     "ename": "KeyError",
     "evalue": "'cpw_opts'",
     "output_type": "error",
     "traceback": [
      "\u001b[1;31m---------------------------------------------------------------------------\u001b[0m",
      "\u001b[1;31mKeyError\u001b[0m                                  Traceback (most recent call last)",
      "\u001b[1;32md:\\andre\\squadds_LOM_sweep\\xmon_LOM_v2.ipynb Cell 6\u001b[0m line \u001b[0;36m1\n\u001b[1;32m----> <a href='vscode-notebook-cell:/d%3A/andre/squadds_LOM_sweep/xmon_LOM_v2.ipynb#X26sZmlsZQ%3D%3D?line=0'>1</a>\u001b[0m cross_LOM_sweep(design, xmon_sweep_options)\n",
      "File \u001b[1;32md:\\andre\\squadds_LOM_sweep\\objects.py:171\u001b[0m, in \u001b[0;36mcross_LOM_sweep\u001b[1;34m(design, sweep_opts)\u001b[0m\n\u001b[0;32m    169\u001b[0m coupler \u001b[39m=\u001b[39m create_coupler(param, design)\n\u001b[0;32m    170\u001b[0m coupler\u001b[39m.\u001b[39moptions[\u001b[39m\"\u001b[39m\u001b[39m\"\u001b[39m]\n\u001b[1;32m--> 171\u001b[0m cpw \u001b[39m=\u001b[39m create_cpw(param[\u001b[39m\"\u001b[39;49m\u001b[39mcpw_opts\u001b[39;49m\u001b[39m\"\u001b[39;49m], design)\n\u001b[0;32m    172\u001b[0m gui\u001b[39m.\u001b[39mrebuild()\n\u001b[0;32m    173\u001b[0m gui\u001b[39m.\u001b[39mautoscale()\n",
      "\u001b[1;31mKeyError\u001b[0m: 'cpw_opts'"
     ]
    }
   ],
   "source": [
    "cross_LOM_sweep(design, xmon_sweep_options)"
   ]
  },
  {
   "cell_type": "code",
   "execution_count": null,
   "metadata": {},
   "outputs": [],
   "source": []
  }
 ],
 "metadata": {
  "kernelspec": {
   "display_name": "qiskit_metal",
   "language": "python",
   "name": "python3"
  },
  "language_info": {
   "codemirror_mode": {
    "name": "ipython",
    "version": 3
   },
   "file_extension": ".py",
   "mimetype": "text/x-python",
   "name": "python",
   "nbconvert_exporter": "python",
   "pygments_lexer": "ipython3",
   "version": "3.11.4"
  },
  "orig_nbformat": 4
 },
 "nbformat": 4,
 "nbformat_minor": 2
}
