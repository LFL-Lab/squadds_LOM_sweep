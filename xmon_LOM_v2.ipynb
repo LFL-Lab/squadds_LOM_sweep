{
 "cells": [
  {
   "cell_type": "code",
   "execution_count": 1,
   "metadata": {},
   "outputs": [],
   "source": [
    "%load_ext autoreload\n",
    "%autoreload 2\n",
    "\n",
    "%config IPython.sys.argv=['-Xfrozen_modules=off']\n",
    "\n",
    "from qiskit_metal import draw, Dict, designs, MetalGUI\n",
    "from qiskit_metal.toolbox_metal import math_and_overrides\n",
    "from qiskit_metal.qlibrary.core import QComponent\n",
    "import qiskit_metal as metal\n",
    "# ?metal.qlibrary.core.QComponent.add_qgeometry\n",
    "\n",
    "design = metal.designs.design_planar.DesignPlanar()\n",
    "gui = metal.MetalGUI(design)\n",
    "design.overwrite_enabled = True\n",
    "\n",
    "# dir(QComponent)\n",
    "cpw_width = '11.7um'\n",
    "\n",
    "design._chips.main.size.size_x = '5mm'\n",
    "design._chips.main.size.size_y = '5mm'\n",
    "from qiskit_metal.qlibrary.terminations.launchpad_wb import LaunchpadWirebond\n",
    "from qiskit_metal.qlibrary.terminations.short_to_ground import ShortToGround\n",
    "from qiskit_metal.qlibrary.tlines.straight_path import RouteStraight\n",
    "from qiskit_metal.qlibrary.tlines.anchored_path import RouteAnchors\n",
    "from qiskit_metal.qlibrary.tlines.mixed_path import RouteMixed\n",
    "from qiskit_metal.qlibrary.qubits.transmon_cross import TransmonCross\n",
    "from qiskit_metal.qlibrary.tlines.meandered import RouteMeander\n",
    "from qiskit_metal.qlibrary.terminations.open_to_ground import OpenToGround\n",
    "from qiskit_metal.qlibrary.couplers.coupled_line_tee import CoupledLineTee\n",
    "from qiskit_metal.qlibrary.couplers.cap_n_interdigital_tee import CapNInterdigitalTee\n",
    "from qiskit_metal.qlibrary.couplers.line_tee import LineTee\n",
    "\n",
    "from collections import OrderedDict\n",
    "\n",
    "import numpy as np\n",
    "\n",
    "from utils import *\n",
    "from objects import *\n",
    "from sweeper_helperfunctions import *"
   ]
  },
  {
   "cell_type": "code",
   "execution_count": 2,
   "metadata": {},
   "outputs": [],
   "source": [
    "comps_available = {\n",
    "    \"Sabrina\":0,\n",
    "    \"Saruman\":1,\n",
    "    \"VM84\":2,\n",
    "    \"VM85\":3,\n",
    "    \"VM90\":4,\n",
    "    \"VM91\":5,\n",
    "}"
   ]
  },
  {
   "cell_type": "code",
   "execution_count": 3,
   "metadata": {},
   "outputs": [],
   "source": [
    "comp_id = \"Sabrina\"  # Replace with actual computer name"
   ]
  },
  {
   "cell_type": "code",
   "execution_count": 10,
   "metadata": {},
   "outputs": [
    {
     "data": {
      "text/plain": [
       "['70um', '80um', '90um', '100um', '110um', '120um', '130um']"
      ]
     },
     "execution_count": 10,
     "metadata": {},
     "output_type": "execute_result"
    }
   ],
   "source": [
    "list(np.array_split([f\"{70+i*10}um\" for i in range(39)], len(comps_available))[comps_available[comp_id]])"
   ]
  },
  {
   "cell_type": "code",
   "execution_count": 11,
   "metadata": {},
   "outputs": [
    {
     "data": {
      "text/plain": [
       "{'connection_pads': {'readout': {'connector_location': '90',\n",
       "   'connector_type': '0',\n",
       "   'claw_length': ['70um', '80um', '90um', '100um', '110um', '120um', '130um'],\n",
       "   'ground_spacing': '4.1um',\n",
       "   'claw_gap': '5.1um',\n",
       "   'claw_width': '15um'}},\n",
       " 'cross_width': '30um',\n",
       " 'cross_length': ['90um', '100um', '110um', '120um', '130um', '140um'],\n",
       " 'cross_gap': '30um',\n",
       " 'aedt_hfss_inductance': 1.0471e-08}"
      ]
     },
     "execution_count": 11,
     "metadata": {},
     "output_type": "execute_result"
    }
   ],
   "source": [
    "xmon_sweep_options = dict(\n",
    "    connection_pads=dict(\n",
    "        readout = dict(connector_location = '90', \n",
    "                 connector_type = '0', \n",
    "                 claw_length = list(np.array_split([f\"{70+i*10}um\" for i in range(39)], len(comps_available))[comps_available[comp_id]]),\n",
    "                 ground_spacing = '4.1um', \n",
    "                 claw_gap = '5.1um', \n",
    "                 claw_width = '15um',\n",
    "                 ),\n",
    "    ),\n",
    "    cross_width = '30um',\n",
    "    cross_length = list(np.array_split([f\"{90+i*10}um\" for i in range(34)], len(comps_available))[comps_available[comp_id]]),\n",
    "    cross_gap = '30um',\n",
    "    aedt_hfss_inductance = 10.471E-9\n",
    ")\n",
    "\n",
    "# Create a new Transmon Cross object with name 'Q1'\n",
    "# q = TransmonCross(design, 'Q', options=xmon_options)\n",
    "\n",
    "# gui.rebuild()  # line needed to propagate the updates from the qubit instance into the junction design table\n",
    "# gui.autoscale()\n",
    "xmon_sweep_options"
   ]
  },
  {
   "cell_type": "markdown",
   "metadata": {},
   "source": [
    "# LOM sim"
   ]
  },
  {
   "cell_type": "code",
   "execution_count": 12,
   "metadata": {},
   "outputs": [
    {
     "name": "stderr",
     "output_type": "stream",
     "text": [
      "INFO 11:23PM [connect_project]: Connecting to Ansys Desktop API...\n",
      "INFO 11:23PM [load_ansys_project]: \tOpened Ansys App\n",
      "INFO 11:23PM [load_ansys_project]: \tOpened Ansys Desktop v2021.1.0\n",
      "INFO 11:23PM [load_ansys_project]: \tOpened Ansys Project\n",
      "\tFolder:    D:/lfl/Documents/Ansoft/\n",
      "\tProject:   4p1_xmon_LOM_sweep\n",
      "INFO 11:23PM [connect_design]: \tOpened active design\n",
      "\tDesign:    LOMv2.01_q3d3 [Solution type: Q3D]\n",
      "INFO 11:23PM [get_setup]: \tOpened setup `Setup`  (<class 'pyEPR.ansys.AnsysQ3DSetup'>)\n",
      "INFO 11:23PM [connect]: \tConnected to project \"4p1_xmon_LOM_sweep\" and design \"LOMv2.01_q3d3\" 😀 \n",
      "\n"
     ]
    },
    {
     "name": "stdout",
     "output_type": "stream",
     "text": [
      "{'connection_pads': {'readout': {'connector_location': '90', 'connector_type': '0', 'claw_length': '70um', 'ground_spacing': '4.1um', 'claw_gap': '5.1um', 'claw_width': '15um'}}, 'cross_width': '30um', 'cross_length': '90um', 'cross_gap': '30um', 'aedt_hfss_inductance': 1.0471e-08}\n"
     ]
    },
    {
     "name": "stderr",
     "output_type": "stream",
     "text": [
      "INFO 11:23PM [connect_design]: \tOpened active design\n",
      "\tDesign:    LOMv2.01_q3d4 [Solution type: Q3D]\n",
      "WARNING 11:23PM [connect_setup]: \tNo design setup detected.\n",
      "WARNING 11:23PM [connect_setup]: \tCreating Q3D default setup.\n",
      "INFO 11:23PM [get_setup]: \tOpened setup `Setup`  (<class 'pyEPR.ansys.AnsysQ3DSetup'>)\n",
      "INFO 11:23PM [get_setup]: \tOpened setup `lom_setup`  (<class 'pyEPR.ansys.AnsysQ3DSetup'>)\n"
     ]
    },
    {
     "name": "stdout",
     "output_type": "stream",
     "text": [
      "<COMObject GetModule>\n"
     ]
    },
    {
     "name": "stderr",
     "output_type": "stream",
     "text": [
      "INFO 11:23PM [analyze]: Analyzing setup lom_setup\n"
     ]
    }
   ],
   "source": [
    "cross_LOM_sweep(design, xmon_sweep_options)"
   ]
  },
  {
   "cell_type": "code",
   "execution_count": null,
   "metadata": {},
   "outputs": [],
   "source": []
  }
 ],
 "metadata": {
  "kernelspec": {
   "display_name": "qiskit_metal",
   "language": "python",
   "name": "python3"
  },
  "language_info": {
   "codemirror_mode": {
    "name": "ipython",
    "version": 3
   },
   "file_extension": ".py",
   "mimetype": "text/x-python",
   "name": "python",
   "nbconvert_exporter": "python",
   "pygments_lexer": "ipython3",
   "version": "3.11.4"
  },
  "orig_nbformat": 4
 },
 "nbformat": 4,
 "nbformat_minor": 2
}
