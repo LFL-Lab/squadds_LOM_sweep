{
 "cells": [
  {
   "cell_type": "code",
   "execution_count": 1,
   "metadata": {},
   "outputs": [],
   "source": [
    "%load_ext autoreload\n",
    "%autoreload 2\n",
    "\n",
    "%config IPython.sys.argv=['-Xfrozen_modules=off']\n",
    "\n",
    "from qiskit_metal import draw, Dict, designs, MetalGUI\n",
    "from qiskit_metal.toolbox_metal import math_and_overrides\n",
    "from qiskit_metal.qlibrary.core import QComponent\n",
    "import qiskit_metal as metal\n",
    "# ?metal.qlibrary.core.QComponent.add_qgeometry\n",
    "\n",
    "design = metal.designs.design_planar.DesignPlanar()\n",
    "gui = metal.MetalGUI(design)\n",
    "design.overwrite_enabled = True\n",
    "\n",
    "# dir(QComponent)\n",
    "cpw_width = '11.7um'\n",
    "\n",
    "design._chips.main.size.size_x = '5mm'\n",
    "design._chips.main.size.size_y = '5mm'\n",
    "from qiskit_metal.qlibrary.terminations.launchpad_wb import LaunchpadWirebond\n",
    "from qiskit_metal.qlibrary.terminations.short_to_ground import ShortToGround\n",
    "from qiskit_metal.qlibrary.tlines.straight_path import RouteStraight\n",
    "from qiskit_metal.qlibrary.tlines.anchored_path import RouteAnchors\n",
    "from qiskit_metal.qlibrary.tlines.mixed_path import RouteMixed\n",
    "from qiskit_metal.qlibrary.qubits.transmon_cross import TransmonCross\n",
    "from qiskit_metal.qlibrary.tlines.meandered import RouteMeander\n",
    "from qiskit_metal.qlibrary.terminations.open_to_ground import OpenToGround\n",
    "from qiskit_metal.qlibrary.couplers.coupled_line_tee import CoupledLineTee\n",
    "from qiskit_metal.qlibrary.couplers.cap_n_interdigital_tee import CapNInterdigitalTee\n",
    "from qiskit_metal.qlibrary.couplers.line_tee import LineTee\n",
    "\n",
    "from collections import OrderedDict\n",
    "\n",
    "import numpy as np\n",
    "\n",
    "from utils import *\n",
    "from objects import *\n",
    "from sweeper_helperfunctions import *"
   ]
  },
  {
   "cell_type": "code",
   "execution_count": 2,
   "metadata": {},
   "outputs": [],
   "source": [
    "comps_available = {\n",
    "    \"Sabrina\":0,\n",
    "    \"Saruman\":1,\n",
    "    \"VM84\":2,\n",
    "    \"VM85\":3,\n",
    "    \"VM90\":4,\n",
    "    \"VM91\":5,\n",
    "}"
   ]
  },
  {
   "cell_type": "code",
   "execution_count": 3,
   "metadata": {},
   "outputs": [],
   "source": [
    "comp_id = \"Sabrina\"  # Replace with actual computer name"
   ]
  },
  {
   "cell_type": "code",
   "execution_count": 10,
   "metadata": {},
   "outputs": [
    {
     "data": {
      "text/plain": [
       "['70um', '80um', '90um', '100um', '110um', '120um', '130um']"
      ]
     },
     "execution_count": 10,
     "metadata": {},
     "output_type": "execute_result"
    }
   ],
   "source": [
    "list(np.array_split([f\"{70+i*10}um\" for i in range(39)], len(comps_available))[comps_available[comp_id]])"
   ]
  },
  {
   "cell_type": "code",
   "execution_count": 13,
   "metadata": {},
   "outputs": [
    {
     "data": {
      "text/plain": [
       "{'connection_pads': {'readout': {'connector_location': '90',\n",
       "   'connector_type': '0',\n",
       "   'claw_length': ['70um', '80um', '90um', '100um', '110um', '120um', '130um'],\n",
       "   'ground_spacing': '4.1um',\n",
       "   'claw_gap': '5.1um',\n",
       "   'claw_width': '15um'}},\n",
       " 'cross_width': '30um',\n",
       " 'cross_length': ['90um',\n",
       "  '100um',\n",
       "  '110um',\n",
       "  '120um',\n",
       "  '130um',\n",
       "  '140um',\n",
       "  '150um',\n",
       "  '160um',\n",
       "  '170um',\n",
       "  '180um',\n",
       "  '190um',\n",
       "  '200um',\n",
       "  '210um',\n",
       "  '220um',\n",
       "  '230um',\n",
       "  '240um',\n",
       "  '250um',\n",
       "  '260um',\n",
       "  '270um',\n",
       "  '280um',\n",
       "  '290um',\n",
       "  '300um',\n",
       "  '310um',\n",
       "  '320um',\n",
       "  '330um',\n",
       "  '340um',\n",
       "  '350um',\n",
       "  '360um',\n",
       "  '370um',\n",
       "  '380um',\n",
       "  '390um',\n",
       "  '400um',\n",
       "  '410um',\n",
       "  '420um'],\n",
       " 'cross_gap': '30um',\n",
       " 'aedt_hfss_inductance': 1.0471e-08}"
      ]
     },
     "execution_count": 13,
     "metadata": {},
     "output_type": "execute_result"
    }
   ],
   "source": [
    "xmon_sweep_options = dict(\n",
    "    connection_pads=dict(\n",
    "        readout = dict(connector_location = '90', \n",
    "                 connector_type = '0', \n",
    "                 claw_length = list(np.array_split([f\"{70+i*10}um\" for i in range(39)], len(comps_available))[comps_available[comp_id]]),\n",
    "                 ground_spacing = '4.1um', \n",
    "                 claw_gap = '5.1um', \n",
    "                 claw_width = '15um',\n",
    "                 ),\n",
    "    ),\n",
    "    cross_width = '30um',\n",
    "    cross_length = [f\"{90+i*10}um\" for i in range(34)],\n",
    "    cross_gap = '30um',\n",
    "    aedt_hfss_inductance = 10.471E-9\n",
    ")\n",
    "\n",
    "# Create a new Transmon Cross object with name 'Q1'\n",
    "# q = TransmonCross(design, 'Q', options=xmon_options)\n",
    "\n",
    "# gui.rebuild()  # line needed to propagate the updates from the qubit instance into the junction design table\n",
    "# gui.autoscale()\n",
    "xmon_sweep_options"
   ]
  },
  {
   "cell_type": "markdown",
   "metadata": {},
   "source": [
    "# LOM sim"
   ]
  },
  {
   "cell_type": "code",
   "execution_count": 12,
   "metadata": {},
   "outputs": [
    {
     "name": "stderr",
     "output_type": "stream",
     "text": [
      "INFO 11:23PM [connect_project]: Connecting to Ansys Desktop API...\n",
      "INFO 11:23PM [load_ansys_project]: \tOpened Ansys App\n",
      "INFO 11:23PM [load_ansys_project]: \tOpened Ansys Desktop v2021.1.0\n",
      "INFO 11:23PM [load_ansys_project]: \tOpened Ansys Project\n",
      "\tFolder:    D:/lfl/Documents/Ansoft/\n",
      "\tProject:   4p1_xmon_LOM_sweep\n",
      "INFO 11:23PM [connect_design]: \tOpened active design\n",
      "\tDesign:    LOMv2.01_q3d3 [Solution type: Q3D]\n",
      "INFO 11:23PM [get_setup]: \tOpened setup `Setup`  (<class 'pyEPR.ansys.AnsysQ3DSetup'>)\n",
      "INFO 11:23PM [connect]: \tConnected to project \"4p1_xmon_LOM_sweep\" and design \"LOMv2.01_q3d3\" 😀 \n",
      "\n"
     ]
    },
    {
     "name": "stdout",
     "output_type": "stream",
     "text": [
      "{'connection_pads': {'readout': {'connector_location': '90', 'connector_type': '0', 'claw_length': '70um', 'ground_spacing': '4.1um', 'claw_gap': '5.1um', 'claw_width': '15um'}}, 'cross_width': '30um', 'cross_length': '90um', 'cross_gap': '30um', 'aedt_hfss_inductance': 1.0471e-08}\n"
     ]
    },
    {
     "name": "stderr",
     "output_type": "stream",
     "text": [
      "INFO 11:23PM [connect_design]: \tOpened active design\n",
      "\tDesign:    LOMv2.01_q3d4 [Solution type: Q3D]\n",
      "WARNING 11:23PM [connect_setup]: \tNo design setup detected.\n",
      "WARNING 11:23PM [connect_setup]: \tCreating Q3D default setup.\n",
      "INFO 11:23PM [get_setup]: \tOpened setup `Setup`  (<class 'pyEPR.ansys.AnsysQ3DSetup'>)\n",
      "INFO 11:23PM [get_setup]: \tOpened setup `lom_setup`  (<class 'pyEPR.ansys.AnsysQ3DSetup'>)\n"
     ]
    },
    {
     "name": "stdout",
     "output_type": "stream",
     "text": [
      "<COMObject GetModule>\n"
     ]
    },
    {
     "name": "stderr",
     "output_type": "stream",
     "text": [
      "INFO 11:23PM [analyze]: Analyzing setup lom_setup\n"
     ]
    },
    {
     "ename": "com_error",
     "evalue": "(-2147352567, 'Exception occurred.', (0, None, None, None, 0, -2147024349), None)",
     "output_type": "error",
     "traceback": [
      "\u001b[1;31m---------------------------------------------------------------------------\u001b[0m",
      "\u001b[1;31mcom_error\u001b[0m                                 Traceback (most recent call last)",
      "\u001b[1;32md:\\andre\\squadds_LOM_sweep\\xmon_LOM_v2.ipynb Cell 7\u001b[0m line \u001b[0;36m1\n\u001b[1;32m----> <a href='vscode-notebook-cell:/d%3A/andre/squadds_LOM_sweep/xmon_LOM_v2.ipynb#X26sZmlsZQ%3D%3D?line=0'>1</a>\u001b[0m cross_LOM_sweep(design, xmon_sweep_options)\n",
      "File \u001b[1;32md:\\andre\\squadds_LOM_sweep\\objects.py:186\u001b[0m, in \u001b[0;36mcross_LOM_sweep\u001b[1;34m(design, sweep_opts)\u001b[0m\n\u001b[0;32m    182\u001b[0m loma\u001b[39m.\u001b[39msim\u001b[39m.\u001b[39msetup\u001b[39m.\u001b[39msolution_order \u001b[39m=\u001b[39m \u001b[39m'\u001b[39m\u001b[39mMedium\u001b[39m\u001b[39m'\u001b[39m\n\u001b[0;32m    184\u001b[0m loma\u001b[39m.\u001b[39msim\u001b[39m.\u001b[39msetup\u001b[39m.\u001b[39mname \u001b[39m=\u001b[39m \u001b[39m'\u001b[39m\u001b[39mlom_setup\u001b[39m\u001b[39m'\u001b[39m\n\u001b[1;32m--> 186\u001b[0m loma\u001b[39m.\u001b[39;49msim\u001b[39m.\u001b[39;49mrun(name \u001b[39m=\u001b[39;49m \u001b[39m'\u001b[39;49m\u001b[39mLOMv2.01\u001b[39;49m\u001b[39m'\u001b[39;49m, components\u001b[39m=\u001b[39;49m[cross\u001b[39m.\u001b[39;49mname],\n\u001b[0;32m    187\u001b[0m open_terminations\u001b[39m=\u001b[39;49m[(cross\u001b[39m.\u001b[39;49mname, pin_name) \u001b[39mfor\u001b[39;49;00m pin_name \u001b[39min\u001b[39;49;00m cross\u001b[39m.\u001b[39;49mpin_names])\n\u001b[0;32m    188\u001b[0m cap_df \u001b[39m=\u001b[39m loma\u001b[39m.\u001b[39msim\u001b[39m.\u001b[39mcapacitance_matrix\n\u001b[0;32m    189\u001b[0m data \u001b[39m=\u001b[39m loma\u001b[39m.\u001b[39mget_data()\n",
      "File \u001b[1;32mc:\\users\\lfl\\qiskit-metal\\qiskit_metal\\analyses\\core\\simulation.py:203\u001b[0m, in \u001b[0;36mQSimulation.run\u001b[1;34m(self, *args, **kwargs)\u001b[0m\n\u001b[0;32m    199\u001b[0m \u001b[39mdef\u001b[39;00m \u001b[39mrun\u001b[39m(\u001b[39mself\u001b[39m, \u001b[39m*\u001b[39margs, \u001b[39m*\u001b[39m\u001b[39m*\u001b[39mkwargs):\n\u001b[0;32m    200\u001b[0m \u001b[39m    \u001b[39m\u001b[39m\"\"\"Alias for run_sim() necessary to implement super-class method, while\u001b[39;00m\n\u001b[0;32m    201\u001b[0m \u001b[39m    preventing method name collision when sim and non-sim QAnalysis classes are inherited.\u001b[39;00m\n\u001b[0;32m    202\u001b[0m \u001b[39m    \"\"\"\u001b[39;00m\n\u001b[1;32m--> 203\u001b[0m     \u001b[39mself\u001b[39;49m\u001b[39m.\u001b[39;49mrun_sim(\u001b[39m*\u001b[39;49margs, \u001b[39m*\u001b[39;49m\u001b[39m*\u001b[39;49mkwargs)\n",
      "File \u001b[1;32mc:\\users\\lfl\\qiskit-metal\\qiskit_metal\\analyses\\simulation\\lumped_elements.py:148\u001b[0m, in \u001b[0;36mLumpedElementsSim.run_sim\u001b[1;34m(self, name, components, open_terminations, box_plus_buffer)\u001b[0m\n\u001b[0;32m    139\u001b[0m     \u001b[39mself\u001b[39m\u001b[39m.\u001b[39m_initialize_renderer()\n\u001b[0;32m    141\u001b[0m renderer_design_name \u001b[39m=\u001b[39m \u001b[39mself\u001b[39m\u001b[39m.\u001b[39m_render(name\u001b[39m=\u001b[39mname,\n\u001b[0;32m    142\u001b[0m                                     solution_type\u001b[39m=\u001b[39m\u001b[39m'\u001b[39m\u001b[39mcapacitive\u001b[39m\u001b[39m'\u001b[39m,\n\u001b[0;32m    143\u001b[0m                                     selection\u001b[39m=\u001b[39mcomponents,\n\u001b[0;32m    144\u001b[0m                                     open_pins\u001b[39m=\u001b[39mopen_terminations,\n\u001b[0;32m    145\u001b[0m                                     box_plus_buffer\u001b[39m=\u001b[39mbox_plus_buffer,\n\u001b[0;32m    146\u001b[0m                                     vars_to_initialize\u001b[39m=\u001b[39mDict())\n\u001b[1;32m--> 148\u001b[0m \u001b[39mself\u001b[39;49m\u001b[39m.\u001b[39;49m_analyze()\n\u001b[0;32m    149\u001b[0m \u001b[39mreturn\u001b[39;00m renderer_design_name, \u001b[39mself\u001b[39m\u001b[39m.\u001b[39msim_setup_name\n",
      "File \u001b[1;32mc:\\users\\lfl\\qiskit-metal\\qiskit_metal\\analyses\\simulation\\lumped_elements.py:83\u001b[0m, in \u001b[0;36mLumpedElementsSim._analyze\u001b[1;34m(self)\u001b[0m\n\u001b[0;32m     81\u001b[0m \u001b[39m# pylint: disable=attribute-defined-outside-init\u001b[39;00m\n\u001b[0;32m     82\u001b[0m \u001b[39mself\u001b[39m\u001b[39m.\u001b[39msim_setup_name \u001b[39m=\u001b[39m \u001b[39mself\u001b[39m\u001b[39m.\u001b[39mrenderer\u001b[39m.\u001b[39minitialize_cap_extract(\u001b[39m*\u001b[39m\u001b[39m*\u001b[39m\u001b[39mself\u001b[39m\u001b[39m.\u001b[39msetup)\n\u001b[1;32m---> 83\u001b[0m \u001b[39mself\u001b[39;49m\u001b[39m.\u001b[39;49mrenderer\u001b[39m.\u001b[39;49manalyze_setup(\u001b[39mself\u001b[39;49m\u001b[39m.\u001b[39;49msim_setup_name)\n\u001b[0;32m     84\u001b[0m \u001b[39mself\u001b[39m\u001b[39m.\u001b[39m_get_results_from_renderer()\n",
      "File \u001b[1;32mc:\\users\\lfl\\qiskit-metal\\qiskit_metal\\renderers\\renderer_ansys\\q3d_renderer.py:386\u001b[0m, in \u001b[0;36mQQ3DRenderer.analyze_setup\u001b[1;34m(self, setup_name)\u001b[0m\n\u001b[0;32m    384\u001b[0m \u001b[39mif\u001b[39;00m \u001b[39mself\u001b[39m\u001b[39m.\u001b[39mpinfo:\n\u001b[0;32m    385\u001b[0m     setup \u001b[39m=\u001b[39m \u001b[39mself\u001b[39m\u001b[39m.\u001b[39mpinfo\u001b[39m.\u001b[39mget_setup(setup_name)\n\u001b[1;32m--> 386\u001b[0m     setup\u001b[39m.\u001b[39;49manalyze(setup_name)\n",
      "File \u001b[1;32mc:\\Users\\lfl\\.conda\\envs\\qiskit_metal\\Lib\\site-packages\\pyEPR\\ansys.py:1065\u001b[0m, in \u001b[0;36mHfssSetup.analyze\u001b[1;34m(self, name)\u001b[0m\n\u001b[0;32m   1063\u001b[0m     name \u001b[39m=\u001b[39m \u001b[39mself\u001b[39m\u001b[39m.\u001b[39mname\n\u001b[0;32m   1064\u001b[0m logger\u001b[39m.\u001b[39minfo(\u001b[39mf\u001b[39m\u001b[39m'\u001b[39m\u001b[39mAnalyzing setup \u001b[39m\u001b[39m{\u001b[39;00mname\u001b[39m}\u001b[39;00m\u001b[39m'\u001b[39m)\n\u001b[1;32m-> 1065\u001b[0m \u001b[39mreturn\u001b[39;00m \u001b[39mself\u001b[39;49m\u001b[39m.\u001b[39;49mparent\u001b[39m.\u001b[39;49m_design\u001b[39m.\u001b[39;49mAnalyze(name)\n",
      "File \u001b[1;32m<COMObject GetDesign>:2\u001b[0m, in \u001b[0;36mAnalyze\u001b[1;34m(self, simulationName)\u001b[0m\n",
      "\u001b[1;31mcom_error\u001b[0m: (-2147352567, 'Exception occurred.', (0, None, None, None, 0, -2147024349), None)"
     ]
    }
   ],
   "source": [
    "cross_LOM_sweep(design, xmon_sweep_options)"
   ]
  },
  {
   "cell_type": "code",
   "execution_count": null,
   "metadata": {},
   "outputs": [],
   "source": []
  }
 ],
 "metadata": {
  "kernelspec": {
   "display_name": "qiskit_metal",
   "language": "python",
   "name": "python3"
  },
  "language_info": {
   "codemirror_mode": {
    "name": "ipython",
    "version": 3
   },
   "file_extension": ".py",
   "mimetype": "text/x-python",
   "name": "python",
   "nbconvert_exporter": "python",
   "pygments_lexer": "ipython3",
   "version": "3.11.4"
  },
  "orig_nbformat": 4
 },
 "nbformat": 4,
 "nbformat_minor": 2
}
