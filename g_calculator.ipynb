{
 "cells": [
  {
   "cell_type": "code",
   "execution_count": 2,
   "metadata": {},
   "outputs": [
    {
     "name": "stdout",
     "output_type": "stream",
     "text": [
      "Requirement already satisfied: scqubits in c:\\users\\lfl\\.conda\\envs\\qiskit_metal\\lib\\site-packages (3.2.0)\n",
      "Requirement already satisfied: cycler in c:\\users\\lfl\\.conda\\envs\\qiskit_metal\\lib\\site-packages (from scqubits) (0.11.0)\n",
      "Requirement already satisfied: cython<3.0.0,>=0.29.20 in c:\\users\\lfl\\.conda\\envs\\qiskit_metal\\lib\\site-packages (from scqubits) (0.29.36)\n",
      "Requirement already satisfied: matplotlib>=3.5 in c:\\users\\lfl\\.conda\\envs\\qiskit_metal\\lib\\site-packages (from scqubits) (3.7.0)\n",
      "Requirement already satisfied: numpy>=1.14.2 in c:\\users\\lfl\\.conda\\envs\\qiskit_metal\\lib\\site-packages (from scqubits) (1.23.4)\n",
      "Requirement already satisfied: pyyaml in c:\\users\\lfl\\.conda\\envs\\qiskit_metal\\lib\\site-packages (from scqubits) (6.0)\n",
      "Requirement already satisfied: qutip>=4.3.1 in c:\\users\\lfl\\.conda\\envs\\qiskit_metal\\lib\\site-packages (from scqubits) (4.7.1)\n",
      "Requirement already satisfied: scipy>=1.1.0 in c:\\users\\lfl\\.conda\\envs\\qiskit_metal\\lib\\site-packages (from scqubits) (1.10.0)\n",
      "Requirement already satisfied: sympy in c:\\users\\lfl\\.conda\\envs\\qiskit_metal\\lib\\site-packages (from scqubits) (1.12)\n",
      "Requirement already satisfied: tqdm in c:\\users\\lfl\\.conda\\envs\\qiskit_metal\\lib\\site-packages (from scqubits) (4.65.0)\n",
      "Requirement already satisfied: typing-extensions in c:\\users\\lfl\\.conda\\envs\\qiskit_metal\\lib\\site-packages (from scqubits) (4.7.1)\n",
      "Requirement already satisfied: contourpy>=1.0.1 in c:\\users\\lfl\\.conda\\envs\\qiskit_metal\\lib\\site-packages (from matplotlib>=3.5->scqubits) (1.1.0)\n",
      "Requirement already satisfied: fonttools>=4.22.0 in c:\\users\\lfl\\.conda\\envs\\qiskit_metal\\lib\\site-packages (from matplotlib>=3.5->scqubits) (4.41.0)\n",
      "Requirement already satisfied: kiwisolver>=1.0.1 in c:\\users\\lfl\\.conda\\envs\\qiskit_metal\\lib\\site-packages (from matplotlib>=3.5->scqubits) (1.4.4)\n",
      "Requirement already satisfied: packaging>=20.0 in c:\\users\\lfl\\.conda\\envs\\qiskit_metal\\lib\\site-packages (from matplotlib>=3.5->scqubits) (23.1)\n",
      "Requirement already satisfied: pillow>=6.2.0 in c:\\users\\lfl\\.conda\\envs\\qiskit_metal\\lib\\site-packages (from matplotlib>=3.5->scqubits) (10.0.0)\n",
      "Requirement already satisfied: pyparsing>=2.3.1 in c:\\users\\lfl\\.conda\\envs\\qiskit_metal\\lib\\site-packages (from matplotlib>=3.5->scqubits) (3.1.0)\n",
      "Requirement already satisfied: python-dateutil>=2.7 in c:\\users\\lfl\\.conda\\envs\\qiskit_metal\\lib\\site-packages (from matplotlib>=3.5->scqubits) (2.8.2)\n",
      "Requirement already satisfied: mpmath>=0.19 in c:\\users\\lfl\\.conda\\envs\\qiskit_metal\\lib\\site-packages (from sympy->scqubits) (1.3.0)\n",
      "Requirement already satisfied: colorama in c:\\users\\lfl\\.conda\\envs\\qiskit_metal\\lib\\site-packages (from tqdm->scqubits) (0.4.6)\n",
      "Requirement already satisfied: six>=1.5 in c:\\users\\lfl\\.conda\\envs\\qiskit_metal\\lib\\site-packages (from python-dateutil>=2.7->matplotlib>=3.5->scqubits) (1.16.0)\n"
     ]
    }
   ],
   "source": [
    "!pip install scqubits"
   ]
  },
  {
   "cell_type": "code",
   "execution_count": 112,
   "metadata": {},
   "outputs": [],
   "source": [
    "import numpy as np\n",
    "import scqubits as scq\n",
    "\n",
    "# Constants\n",
    "e = 1.602e-19  # elementary charge in C\n",
    "hbar = 1.054e-34  # reduced Planck constant in Js\n",
    "Z_0 = 50  # in Ohms\n",
    "\n",
    "# Calculations\n",
    "def g(C_g, C_B, f_r, f_q, anharmonicity, N):\n",
    "  C_Sigma = C_g + C_B + 1.5e-15\n",
    "  omega_r = 2 * np.pi * f_r  # Convert frequency to angular frequency\n",
    "  EJ, EC = scq.Transmon.find_EJ_EC(E01=f_q, anharmonicity=anharmonicity)\n",
    "  print(f\"scqubits EC = {EC}\")\n",
    "  # print(f\"EJ = {EJ}\")\n",
    "  EC = (e**2) / (2*C_Sigma) * (1.5092e24)\n",
    "  print(f\"LOM EC = {e**2/(2*C_Sigma) * (1.5092e24)}\")\n",
    "\n",
    "  g = (C_g / C_Sigma) * omega_r * np.sqrt(N * Z_0 * e**2 / (hbar * np.pi) )* (EJ/(1*EC))**(1/4)\n",
    "\n",
    "\n",
    "  return g  # coupling strength in rad/s"
   ]
  },
  {
   "cell_type": "code",
   "execution_count": 3,
   "metadata": {},
   "outputs": [],
   "source": [
    "import numpy as np\n",
    "import scqubits as scq\n",
    "\n",
    "# Constants\n",
    "e = 1.602e-19  # elementary charge in C\n",
    "hbar = 1.054e-34  # reduced Planck constant in Js\n",
    "Z_0 = 50  # in Ohms\n",
    "\n",
    "def find_g_a(C_g, C_B, f_r, f_q, anharmonicity, N):\n",
    "    C_Sigma = C_g + C_B# + 1.5e-15\n",
    "    omega_r = 2 * np.pi * f_r\n",
    "    EJ = scq.Transmon.find_EJ_EC(E01=f_q, anharmonicity=anharmonicity)[0]\n",
    "    EC = e**2/(2*C_Sigma) * (1.5092e24) # 1J = 1.5092e24 GHz\n",
    "\n",
    "    transmon = scq.Transmon(EJ=EJ,\n",
    "                            EC=EC,\n",
    "                            ng = 0,\n",
    "                            ncut = 30)\n",
    "\n",
    "    a = transmon.anharmonicity()\n",
    "    g = (C_g / C_Sigma) * omega_r * np.sqrt(N * Z_0 * e**2 / (hbar * np.pi) )* (EJ/(8*EC))**(1/4)\n",
    "    \n",
    "    return g, a"
   ]
  },
  {
   "cell_type": "code",
   "execution_count": 4,
   "metadata": {},
   "outputs": [
    {
     "name": "stdout",
     "output_type": "stream",
     "text": [
      "Qubit 1\n",
      "Experimental g = 61 Linear MHz\n",
      "Simulated g = 67.85893509295398 Linear MHz\n",
      "Simulated a = -164.3465898883747 Linear MHz\n"
     ]
    }
   ],
   "source": [
    "# Qubit Identifier 1\n",
    "\n",
    "C_g = 5.91536e-15\t# in F\n",
    "C_B = 122.44002e-15\t# in F\n",
    "f_r = 6.116e9 # linear frequency in Hz\n",
    "f_q = 4.216 # Linear freq in GHz\n",
    "anharmonicity = -0.153 # Linear freq in GHz\n",
    "\n",
    "\n",
    "print('Qubit 1')\n",
    "print(\"Experimental g = 61 Linear MHz\")\n",
    "# print(f\"Simulated g = {g(C_g, C_B, f_r, f_q, anharmonicity, 4) / 1E6 / (2 * np.pi)} Linear MHz\")\n",
    "print(f\"Simulated g = {find_g_a(C_g, C_B, f_r, f_q, anharmonicity, 4)[0] / 1E6 / (2 * np.pi)} Linear MHz\")\n",
    "print(f\"Simulated a = {find_g_a(C_g, C_B, f_r, f_q, anharmonicity, 4)[1]*1000} Linear MHz\")"
   ]
  },
  {
   "cell_type": "code",
   "execution_count": 8,
   "metadata": {},
   "outputs": [
    {
     "name": "stdout",
     "output_type": "stream",
     "text": [
      "Qubit 1\n",
      "Experimental g = 61 Linear MHz\n",
      "Simulated g = 67.27037771185647 Linear MHz\n",
      "Simulated a = -170.6752829257958 Linear MHz\n"
     ]
    }
   ],
   "source": [
    "# Qubit Identifier 1\n",
    "\n",
    "C_g = 5.70785e-15\t# in F\n",
    "C_B = 118.10911e-15\t# in F\n",
    "f_r = 6.116e9 # linear frequency in Hz\n",
    "f_q = 4.216 # Linear freq in GHz\n",
    "anharmonicity = -0.153 # Linear freq in GHz\n",
    "\n",
    "\n",
    "print('Qubit 1')\n",
    "print(\"Experimental g = 61 Linear MHz\")\n",
    "# print(f\"Simulated g = {g(C_g, C_B, f_r, f_q, anharmonicity, 4) / 1E6 / (2 * np.pi)} Linear MHz\")\n",
    "print(f\"Simulated g = {find_g_a(C_g, C_B, f_r, f_q, anharmonicity, 4)[0] / 1E6 / (2 * np.pi)} Linear MHz\")\n",
    "print(f\"Simulated a = {find_g_a(C_g, C_B, f_r, f_q, anharmonicity, 4)[1]*1000} Linear MHz\")"
   ]
  },
  {
   "cell_type": "code",
   "execution_count": 134,
   "metadata": {},
   "outputs": [
    {
     "name": "stdout",
     "output_type": "stream",
     "text": [
      "Qubit 2\n",
      "Experimental g = 67 Linear MHz\n",
      "Simulated g = 73.856318785407 Linear MHz\n",
      "Simulated a = -161.56599955428953 Linear MHz\n"
     ]
    }
   ],
   "source": [
    "# Qubit Identifier 2\n",
    "\n",
    "C_g = 6.5519e-15\t# in F\n",
    "C_B = 124.86890e-15\t# in F\n",
    "f_r = 6.353e9 # linear frequency in Hz\n",
    "f_q = 3.896 # Linear freq in GHz\n",
    "anharmonicity = -0.154 # Linear freq in GHz\n",
    "\n",
    "\n",
    "print('Qubit 2')\n",
    "print(\"Experimental g = 67 Linear MHz\")\n",
    "print(f\"Simulated g = {find_g_a(C_g, C_B, f_r, f_q, 4)[0] / 1E6 / (2 * np.pi)} Linear MHz\")\n",
    "print(f\"Simulated a = {find_g_a(C_g, C_B, f_r, f_q, 4)[1]*1000} Linear MHz\")"
   ]
  },
  {
   "cell_type": "code",
   "execution_count": 135,
   "metadata": {},
   "outputs": [
    {
     "name": "stdout",
     "output_type": "stream",
     "text": [
      "Qubit 3\n",
      "Experimental g = 67 Linear MHz\n",
      "Simulated g = 76.41153877510934 Linear MHz\n",
      "Simulated a = -198.1339814720826 Linear MHz\n"
     ]
    }
   ],
   "source": [
    "# Qubit Identifier 3\n",
    "\n",
    "C_g = 7.96930e-15\t# in F\n",
    "C_B = 99.93806e-15\t# in F\n",
    "f_r = 6.472e9 # linear frequency in Hz\n",
    "f_q = 4.451 # Linear freq in GHz\n",
    "anharmonicity = -0.189 # Linear freq in GHz\n",
    "\n",
    "\n",
    "print('Qubit 3')\n",
    "print(\"Experimental g = 67 Linear MHz\")\n",
    "print(f\"Simulated g = {find_g_a(C_g, C_B, f_r, f_q, 2)[0] / 1E6 / (2 * np.pi)} Linear MHz\")\n",
    "print(f\"Simulated a = {find_g_a(C_g, C_B, f_r, f_q, 2)[1]*1000} Linear MHz\")"
   ]
  },
  {
   "cell_type": "code",
   "execution_count": 136,
   "metadata": {},
   "outputs": [
    {
     "name": "stdout",
     "output_type": "stream",
     "text": [
      "Qubit 4\n",
      "Experimental g = 66 Linear MHz\n",
      "Simulated g = 72.62129063295195 Linear MHz\n",
      "Simulated a = -163.80365394049434 Linear MHz\n"
     ]
    }
   ],
   "source": [
    "# Qubit Identifier 4\n",
    "\n",
    "C_g = 6.54770e-15\t# in F\n",
    "C_B = 124.61747e-15\t# in F\n",
    "f_r = 6.568e9 # linear frequency in Hz\n",
    "f_q = 3.586 # Linear freq in GHz\n",
    "anharmonicity = -0.164 # Linear freq in GHz\n",
    "\n",
    "\n",
    "print('Qubit 4')\n",
    "print(\"Experimental g = 66 Linear MHz\")\n",
    "print(f\"Simulated g = {find_g_a(C_g, C_B, f_r, f_q, 4)[0] / 1E6 / (2 * np.pi)} Linear MHz\")\n",
    "print(f\"Simulated a = {find_g_a(C_g, C_B, f_r, f_q, 4)[1]*1000} Linear MHz\")"
   ]
  },
  {
   "cell_type": "code",
   "execution_count": 137,
   "metadata": {},
   "outputs": [
    {
     "name": "stdout",
     "output_type": "stream",
     "text": [
      "Qubit 5\n",
      "Experimental g = 48 Linear MHz\n",
      "Simulated g = 53.932887966143575 Linear MHz\n",
      "Simulated a = -205.83243609781832 Linear MHz\n"
     ]
    }
   ],
   "source": [
    "# Qubit Identifier 5\n",
    "\n",
    "C_g = 5.70617e-15\t# in F\n",
    "C_B = 99.87681e-15\t# in F\n",
    "f_r = 6.655e9 # linear frequency in Hz\n",
    "f_q = 4.101 # Linear freq in GHz\n",
    "anharmonicity = -0.210 # Linear freq in GHz\n",
    "\n",
    "\n",
    "print('Qubit 5')\n",
    "print(\"Experimental g = 48 Linear MHz\")\n",
    "print(f\"Simulated g = {find_g_a(C_g, C_B, f_r, f_q, 2)[0] / 1E6 / (2 * np.pi)} Linear MHz\")\n",
    "print(f\"Simulated a = {find_g_a(C_g, C_B, f_r, f_q, 2)[1]*1000} Linear MHz\")"
   ]
  },
  {
   "cell_type": "code",
   "execution_count": 138,
   "metadata": {},
   "outputs": [
    {
     "name": "stdout",
     "output_type": "stream",
     "text": [
      "Qubit 6\n",
      "Experimental g = 39 Linear MHz\n",
      "Simulated g = 40.33316572493861 Linear MHz\n",
      "Simulated a = -179.69621702204284 Linear MHz\n"
     ]
    }
   ],
   "source": [
    "# Qubit Identifier 6\n",
    "\n",
    "C_g = 4.60188e-15\t# in F\n",
    "C_B = 115.00920e-15\t# in F\n",
    "f_r = 6.704e9 # linear frequency in Hz\n",
    "f_q = 3.881 # Linear freq in GHz\n",
    "anharmonicity = -0.176 # Linear freq in GHz\n",
    "\n",
    "\n",
    "print('Qubit 6')\n",
    "print(\"Experimental g = 39 Linear MHz\")\n",
    "print(f\"Simulated g = {find_g_a(C_g, C_B, f_r, f_q, 2)[0] / 1E6 / (2 * np.pi)} Linear MHz\")\n",
    "print(f\"Simulated a = {find_g_a(C_g, C_B, f_r, f_q, 2)[1]*1000} Linear MHz\")"
   ]
  },
  {
   "cell_type": "code",
   "execution_count": null,
   "metadata": {},
   "outputs": [],
   "source": [
    "# Qubit Identifier \n",
    "\n",
    "C_g = 4.60188e-15\t# in F\n",
    "C_B = 115.00920e-15\t# in F\n",
    "f_r = 6.704e9 # linear frequency in Hz\n",
    "f_q = 3.881 # Linear freq in GHz\n",
    "anharmonicity = -0.176 # Linear freq in GHz\n",
    "\n",
    "\n",
    "print('Qubit 6')\n",
    "print(\"Experimental g = 39 Linear MHz\")\n",
    "print(f\"Simulated g = {find_g_a(C_g, C_B, f_r, f_q, 2)[0] / 1E6 / (2 * np.pi)} Linear MHz\")\n",
    "print(f\"Simulated a = {find_g_a(C_g, C_B, f_r, f_q, 2)[1]*1000} Linear MHz\")"
   ]
  }
 ],
 "metadata": {
  "kernelspec": {
   "display_name": "qiskit_metal",
   "language": "python",
   "name": "python3"
  },
  "language_info": {
   "codemirror_mode": {
    "name": "ipython",
    "version": 3
   },
   "file_extension": ".py",
   "mimetype": "text/x-python",
   "name": "python",
   "nbconvert_exporter": "python",
   "pygments_lexer": "ipython3",
   "version": "3.11.4"
  },
  "orig_nbformat": 4
 },
 "nbformat": 4,
 "nbformat_minor": 2
}
